{
 "cells": [
  {
   "cell_type": "code",
   "execution_count": 1,
   "id": "14963d76",
   "metadata": {},
   "outputs": [],
   "source": [
    "import numpy as np\n",
    "import matplotlib\n",
    "import matplotlib.pyplot as plt\n",
    "import torch\n",
    "import pandas as pd\n",
    "import math\n",
    "import tensorflow as tf\n",
    "from tensorflow import keras\n",
    "from tensorflow.keras import layers\n",
    "from sklearn.preprocessing import MinMaxScaler\n",
    "from sklearn.model_selection import train_test_split\n",
    "from keras.models import Sequential\n",
    "from keras.layers import Dense, LSTM\n",
    "import matplotlib.dates as mdate\n",
    "import time\n",
    "import datetime\n",
    "from datetime import datetime\n",
    "from time import mktime\n",
    "np.set_printoptions(precision=6)\n",
    "pd.set_option('display.float_format',lambda x : '%.6f' % x)"
   ]
  },
  {
   "cell_type": "markdown",
   "id": "b96877c2",
   "metadata": {},
   "source": [
    "loading data"
   ]
  },
  {
   "cell_type": "code",
   "execution_count": 2,
   "id": "320920f7",
   "metadata": {},
   "outputs": [
    {
     "data": {
      "text/html": [
       "<div>\n",
       "<style scoped>\n",
       "    .dataframe tbody tr th:only-of-type {\n",
       "        vertical-align: middle;\n",
       "    }\n",
       "\n",
       "    .dataframe tbody tr th {\n",
       "        vertical-align: top;\n",
       "    }\n",
       "\n",
       "    .dataframe thead th {\n",
       "        text-align: right;\n",
       "    }\n",
       "</style>\n",
       "<table border=\"1\" class=\"dataframe\">\n",
       "  <thead>\n",
       "    <tr style=\"text-align: right;\">\n",
       "      <th></th>\n",
       "      <th>Date&amp;Time</th>\n",
       "      <th>Close</th>\n",
       "      <th>NAME</th>\n",
       "    </tr>\n",
       "  </thead>\n",
       "  <tbody>\n",
       "    <tr>\n",
       "      <th>0</th>\n",
       "      <td>2020-07-01 04:16:07:301</td>\n",
       "      <td>1413.610000</td>\n",
       "      <td>1</td>\n",
       "    </tr>\n",
       "    <tr>\n",
       "      <th>1</th>\n",
       "      <td>2020-07-01 04:21:17:549</td>\n",
       "      <td>1414.010000</td>\n",
       "      <td>50</td>\n",
       "    </tr>\n",
       "    <tr>\n",
       "      <th>2</th>\n",
       "      <td>2020-07-01 05:10:42:852</td>\n",
       "      <td>1413.940000</td>\n",
       "      <td>1</td>\n",
       "    </tr>\n",
       "    <tr>\n",
       "      <th>3</th>\n",
       "      <td>2020-07-01 05:16:15:159</td>\n",
       "      <td>1413.940000</td>\n",
       "      <td>17</td>\n",
       "    </tr>\n",
       "    <tr>\n",
       "      <th>4</th>\n",
       "      <td>2020-07-01 05:16:15:159</td>\n",
       "      <td>1413.940000</td>\n",
       "      <td>50</td>\n",
       "    </tr>\n",
       "    <tr>\n",
       "      <th>...</th>\n",
       "      <td>...</td>\n",
       "      <td>...</td>\n",
       "      <td>...</td>\n",
       "    </tr>\n",
       "    <tr>\n",
       "      <th>63634</th>\n",
       "      <td>2020-07-01 19:59:26:931</td>\n",
       "      <td>1439.750000</td>\n",
       "      <td>2</td>\n",
       "    </tr>\n",
       "    <tr>\n",
       "      <th>63635</th>\n",
       "      <td>2020-07-01 19:59:26:931</td>\n",
       "      <td>1440.050000</td>\n",
       "      <td>1</td>\n",
       "    </tr>\n",
       "    <tr>\n",
       "      <th>63636</th>\n",
       "      <td>2020-07-01 19:59:26:931</td>\n",
       "      <td>1440.050000</td>\n",
       "      <td>1</td>\n",
       "    </tr>\n",
       "    <tr>\n",
       "      <th>63637</th>\n",
       "      <td>2020-07-01 19:59:26:931</td>\n",
       "      <td>1440.060000</td>\n",
       "      <td>1</td>\n",
       "    </tr>\n",
       "    <tr>\n",
       "      <th>63638</th>\n",
       "      <td>2020-07-01 19:59:44:328</td>\n",
       "      <td>1437.110000</td>\n",
       "      <td>5</td>\n",
       "    </tr>\n",
       "  </tbody>\n",
       "</table>\n",
       "<p>63639 rows × 3 columns</p>\n",
       "</div>"
      ],
      "text/plain": [
       "                     Date&Time       Close  NAME\n",
       "0      2020-07-01 04:16:07:301 1413.610000     1\n",
       "1      2020-07-01 04:21:17:549 1414.010000    50\n",
       "2      2020-07-01 05:10:42:852 1413.940000     1\n",
       "3      2020-07-01 05:16:15:159 1413.940000    17\n",
       "4      2020-07-01 05:16:15:159 1413.940000    50\n",
       "...                        ...         ...   ...\n",
       "63634  2020-07-01 19:59:26:931 1439.750000     2\n",
       "63635  2020-07-01 19:59:26:931 1440.050000     1\n",
       "63636  2020-07-01 19:59:26:931 1440.050000     1\n",
       "63637  2020-07-01 19:59:26:931 1440.060000     1\n",
       "63638  2020-07-01 19:59:44:328 1437.110000     5\n",
       "\n",
       "[63639 rows x 3 columns]"
      ]
     },
     "execution_count": 2,
     "metadata": {},
     "output_type": "execute_result"
    }
   ],
   "source": [
    "df = pd.read_csv('GOOG_2020-07-01.txt', header = None, names = ['Date&Time', 'Close', 'NAME'],index_col = 3)\n",
    "df.set_index(np.arange(0,df.shape[0],1),inplace=True)\n",
    "df"
   ]
  },
  {
   "cell_type": "markdown",
   "id": "83f69571",
   "metadata": {},
   "source": [
    "Viewing data 2022-7-1 00:00:00.000 to 2022-7-31 00:00:00.000"
   ]
  },
  {
   "cell_type": "code",
   "execution_count": 3,
   "id": "0140ca0f",
   "metadata": {},
   "outputs": [
    {
     "data": {
      "text/html": [
       "<div>\n",
       "<style scoped>\n",
       "    .dataframe tbody tr th:only-of-type {\n",
       "        vertical-align: middle;\n",
       "    }\n",
       "\n",
       "    .dataframe tbody tr th {\n",
       "        vertical-align: top;\n",
       "    }\n",
       "\n",
       "    .dataframe thead th {\n",
       "        text-align: right;\n",
       "    }\n",
       "</style>\n",
       "<table border=\"1\" class=\"dataframe\">\n",
       "  <thead>\n",
       "    <tr style=\"text-align: right;\">\n",
       "      <th></th>\n",
       "      <th>Date&amp;Time</th>\n",
       "      <th>Close</th>\n",
       "    </tr>\n",
       "  </thead>\n",
       "  <tbody>\n",
       "    <tr>\n",
       "      <th>0</th>\n",
       "      <td>2020-07-01 04:16:07:301</td>\n",
       "      <td>1413.610000</td>\n",
       "    </tr>\n",
       "    <tr>\n",
       "      <th>1</th>\n",
       "      <td>2020-07-01 04:21:17:549</td>\n",
       "      <td>1414.010000</td>\n",
       "    </tr>\n",
       "    <tr>\n",
       "      <th>2</th>\n",
       "      <td>2020-07-01 05:10:42:852</td>\n",
       "      <td>1413.940000</td>\n",
       "    </tr>\n",
       "    <tr>\n",
       "      <th>3</th>\n",
       "      <td>2020-07-01 05:16:15:159</td>\n",
       "      <td>1413.940000</td>\n",
       "    </tr>\n",
       "    <tr>\n",
       "      <th>4</th>\n",
       "      <td>2020-07-01 05:16:15:163</td>\n",
       "      <td>1415.980000</td>\n",
       "    </tr>\n",
       "    <tr>\n",
       "      <th>...</th>\n",
       "      <td>...</td>\n",
       "      <td>...</td>\n",
       "    </tr>\n",
       "    <tr>\n",
       "      <th>34548</th>\n",
       "      <td>2020-07-01 19:55:19:124</td>\n",
       "      <td>1440.000000</td>\n",
       "    </tr>\n",
       "    <tr>\n",
       "      <th>34549</th>\n",
       "      <td>2020-07-01 19:57:28:362</td>\n",
       "      <td>1437.040000</td>\n",
       "    </tr>\n",
       "    <tr>\n",
       "      <th>34550</th>\n",
       "      <td>2020-07-01 19:59:26:930</td>\n",
       "      <td>1440.000000</td>\n",
       "    </tr>\n",
       "    <tr>\n",
       "      <th>34551</th>\n",
       "      <td>2020-07-01 19:59:26:931</td>\n",
       "      <td>1440.050000</td>\n",
       "    </tr>\n",
       "    <tr>\n",
       "      <th>34552</th>\n",
       "      <td>2020-07-01 19:59:44:328</td>\n",
       "      <td>1437.110000</td>\n",
       "    </tr>\n",
       "  </tbody>\n",
       "</table>\n",
       "<p>34553 rows × 2 columns</p>\n",
       "</div>"
      ],
      "text/plain": [
       "                     Date&Time       Close\n",
       "0      2020-07-01 04:16:07:301 1413.610000\n",
       "1      2020-07-01 04:21:17:549 1414.010000\n",
       "2      2020-07-01 05:10:42:852 1413.940000\n",
       "3      2020-07-01 05:16:15:159 1413.940000\n",
       "4      2020-07-01 05:16:15:163 1415.980000\n",
       "...                        ...         ...\n",
       "34548  2020-07-01 19:55:19:124 1440.000000\n",
       "34549  2020-07-01 19:57:28:362 1437.040000\n",
       "34550  2020-07-01 19:59:26:930 1440.000000\n",
       "34551  2020-07-01 19:59:26:931 1440.050000\n",
       "34552  2020-07-01 19:59:44:328 1437.110000\n",
       "\n",
       "[34553 rows x 2 columns]"
      ]
     },
     "execution_count": 3,
     "metadata": {},
     "output_type": "execute_result"
    }
   ],
   "source": [
    "df = df.drop_duplicates(subset=['Date&Time'])\n",
    "df = df.reset_index()[['Date&Time', 'Close']]\n",
    "df"
   ]
  },
  {
   "cell_type": "markdown",
   "id": "800f9552",
   "metadata": {},
   "source": [
    "Summary Stats"
   ]
  },
  {
   "cell_type": "code",
   "execution_count": 4,
   "id": "488dd35c",
   "metadata": {},
   "outputs": [
    {
     "data": {
      "text/html": [
       "<div>\n",
       "<style scoped>\n",
       "    .dataframe tbody tr th:only-of-type {\n",
       "        vertical-align: middle;\n",
       "    }\n",
       "\n",
       "    .dataframe tbody tr th {\n",
       "        vertical-align: top;\n",
       "    }\n",
       "\n",
       "    .dataframe thead th {\n",
       "        text-align: right;\n",
       "    }\n",
       "</style>\n",
       "<table border=\"1\" class=\"dataframe\">\n",
       "  <thead>\n",
       "    <tr style=\"text-align: right;\">\n",
       "      <th></th>\n",
       "      <th>Close</th>\n",
       "    </tr>\n",
       "  </thead>\n",
       "  <tbody>\n",
       "    <tr>\n",
       "      <th>count</th>\n",
       "      <td>34553.000000</td>\n",
       "    </tr>\n",
       "    <tr>\n",
       "      <th>mean</th>\n",
       "      <td>1431.779231</td>\n",
       "    </tr>\n",
       "    <tr>\n",
       "      <th>std</th>\n",
       "      <td>8.065919</td>\n",
       "    </tr>\n",
       "    <tr>\n",
       "      <th>min</th>\n",
       "      <td>1402.010000</td>\n",
       "    </tr>\n",
       "    <tr>\n",
       "      <th>25%</th>\n",
       "      <td>1428.500000</td>\n",
       "    </tr>\n",
       "    <tr>\n",
       "      <th>50%</th>\n",
       "      <td>1434.240000</td>\n",
       "    </tr>\n",
       "    <tr>\n",
       "      <th>75%</th>\n",
       "      <td>1437.250000</td>\n",
       "    </tr>\n",
       "    <tr>\n",
       "      <th>max</th>\n",
       "      <td>1443.130000</td>\n",
       "    </tr>\n",
       "  </tbody>\n",
       "</table>\n",
       "</div>"
      ],
      "text/plain": [
       "             Close\n",
       "count 34553.000000\n",
       "mean   1431.779231\n",
       "std       8.065919\n",
       "min    1402.010000\n",
       "25%    1428.500000\n",
       "50%    1434.240000\n",
       "75%    1437.250000\n",
       "max    1443.130000"
      ]
     },
     "execution_count": 4,
     "metadata": {},
     "output_type": "execute_result"
    }
   ],
   "source": [
    "df.describe()"
   ]
  },
  {
   "cell_type": "markdown",
   "id": "9fbb211b",
   "metadata": {},
   "source": [
    "General Info"
   ]
  },
  {
   "cell_type": "code",
   "execution_count": 5,
   "id": "8930f09b",
   "metadata": {},
   "outputs": [
    {
     "name": "stdout",
     "output_type": "stream",
     "text": [
      "<class 'pandas.core.frame.DataFrame'>\n",
      "RangeIndex: 34553 entries, 0 to 34552\n",
      "Data columns (total 2 columns):\n",
      " #   Column     Non-Null Count  Dtype  \n",
      "---  ------     --------------  -----  \n",
      " 0   Date&Time  34553 non-null  object \n",
      " 1   Close      34553 non-null  float64\n",
      "dtypes: float64(1), object(1)\n",
      "memory usage: 540.0+ KB\n"
     ]
    }
   ],
   "source": [
    "df.info()"
   ]
  },
  {
   "cell_type": "code",
   "execution_count": 6,
   "id": "8c1f1767",
   "metadata": {},
   "outputs": [],
   "source": [
    "# plt.figure(figsize=(15, 6))\n",
    "# plt.subplots_adjust(top=1.25, bottom=1.2)\n",
    "# x = df['Date&Time']\n",
    "# y = df['Close']\n",
    "# plt.plot(x,y)\n",
    "# plt.ylabel('Close')\n",
    "# plt.xlabel('Date&Time')\n",
    "# plt.title(\"EUR_USD\")\n",
    "    \n",
    "# plt.show()"
   ]
  },
  {
   "cell_type": "markdown",
   "id": "8a5a844f",
   "metadata": {},
   "source": [
    "train test split\n",
    "train set / test set := 0.8 / 0.2"
   ]
  },
  {
   "cell_type": "markdown",
   "id": "bb1224b6",
   "metadata": {},
   "source": [
    "type -> timestamp"
   ]
  },
  {
   "cell_type": "code",
   "execution_count": 7,
   "id": "07042ff1",
   "metadata": {},
   "outputs": [
    {
     "name": "stdout",
     "output_type": "stream",
     "text": [
      "                     Date&Time       Close         Timestamp\n",
      "0      2020/07/01 04:16:07:301 1413.610000 1593594967.000000\n",
      "1      2020/07/01 04:21:17:549 1414.010000 1593595277.000000\n",
      "2      2020/07/01 05:10:42:852 1413.940000 1593598242.000000\n",
      "3      2020/07/01 05:16:15:159 1413.940000 1593598575.000000\n",
      "4      2020/07/01 05:16:15:163 1415.980000 1593598575.000000\n",
      "...                        ...         ...               ...\n",
      "34548  2020/07/01 19:55:19:124 1440.000000 1593651319.000000\n",
      "34549  2020/07/01 19:57:28:362 1437.040000 1593651448.000000\n",
      "34550  2020/07/01 19:59:26:930 1440.000000 1593651566.000000\n",
      "34551  2020/07/01 19:59:26:931 1440.050000 1593651566.000000\n",
      "34552  2020/07/01 19:59:44:328 1437.110000 1593651584.000000\n",
      "\n",
      "[34553 rows x 3 columns]\n"
     ]
    }
   ],
   "source": [
    "df['Date&Time'].replace('-','/')\n",
    "# print(df)\n",
    "bb = []\n",
    "for i in range(len(df['Date&Time'])):\n",
    "#     df.loc[i, 'Date&Time'] = df.loc[i, 'Date&Time'][-12:]\n",
    "    df.loc[i, 'Date&Time'] = df.loc[i, 'Date&Time'].replace('-','/')\n",
    "    a = datetime.strptime(df.loc[i, 'Date&Time'], \"%Y/%m/%d %H:%M:%S:%f\")\n",
    "    tuple = a.timetuple()\n",
    "    timestamp = time.mktime(tuple)\n",
    "    bb.append(timestamp)\n",
    "    \n",
    "df['Timestamp'] = bb\n",
    "    \n",
    "print(df)"
   ]
  },
  {
   "cell_type": "code",
   "execution_count": 8,
   "id": "31fd117f",
   "metadata": {},
   "outputs": [
    {
     "data": {
      "text/html": [
       "<div>\n",
       "<style scoped>\n",
       "    .dataframe tbody tr th:only-of-type {\n",
       "        vertical-align: middle;\n",
       "    }\n",
       "\n",
       "    .dataframe tbody tr th {\n",
       "        vertical-align: top;\n",
       "    }\n",
       "\n",
       "    .dataframe thead th {\n",
       "        text-align: right;\n",
       "    }\n",
       "</style>\n",
       "<table border=\"1\" class=\"dataframe\">\n",
       "  <thead>\n",
       "    <tr style=\"text-align: right;\">\n",
       "      <th></th>\n",
       "      <th>Date&amp;Time</th>\n",
       "      <th>Close</th>\n",
       "      <th>Timestamp</th>\n",
       "    </tr>\n",
       "  </thead>\n",
       "  <tbody>\n",
       "    <tr>\n",
       "      <th>0</th>\n",
       "      <td>2020/07/01 04:16:07:301</td>\n",
       "      <td>1413.610000</td>\n",
       "      <td>1593594967.000000</td>\n",
       "    </tr>\n",
       "    <tr>\n",
       "      <th>1</th>\n",
       "      <td>2020/07/01 04:21:17:549</td>\n",
       "      <td>1414.010000</td>\n",
       "      <td>1593595277.000000</td>\n",
       "    </tr>\n",
       "    <tr>\n",
       "      <th>2</th>\n",
       "      <td>2020/07/01 05:10:42:852</td>\n",
       "      <td>1413.940000</td>\n",
       "      <td>1593598242.000000</td>\n",
       "    </tr>\n",
       "    <tr>\n",
       "      <th>3</th>\n",
       "      <td>2020/07/01 05:16:15:159</td>\n",
       "      <td>1413.940000</td>\n",
       "      <td>1593598575.000000</td>\n",
       "    </tr>\n",
       "    <tr>\n",
       "      <th>4</th>\n",
       "      <td>2020/07/01 05:20:21:710</td>\n",
       "      <td>1413.650000</td>\n",
       "      <td>1593598821.000000</td>\n",
       "    </tr>\n",
       "    <tr>\n",
       "      <th>...</th>\n",
       "      <td>...</td>\n",
       "      <td>...</td>\n",
       "      <td>...</td>\n",
       "    </tr>\n",
       "    <tr>\n",
       "      <th>13102</th>\n",
       "      <td>2020/07/01 19:53:27:685</td>\n",
       "      <td>1439.260000</td>\n",
       "      <td>1593651207.000000</td>\n",
       "    </tr>\n",
       "    <tr>\n",
       "      <th>13103</th>\n",
       "      <td>2020/07/01 19:55:19:123</td>\n",
       "      <td>1440.000000</td>\n",
       "      <td>1593651319.000000</td>\n",
       "    </tr>\n",
       "    <tr>\n",
       "      <th>13104</th>\n",
       "      <td>2020/07/01 19:57:28:362</td>\n",
       "      <td>1437.040000</td>\n",
       "      <td>1593651448.000000</td>\n",
       "    </tr>\n",
       "    <tr>\n",
       "      <th>13105</th>\n",
       "      <td>2020/07/01 19:59:26:930</td>\n",
       "      <td>1440.000000</td>\n",
       "      <td>1593651566.000000</td>\n",
       "    </tr>\n",
       "    <tr>\n",
       "      <th>13106</th>\n",
       "      <td>2020/07/01 19:59:44:328</td>\n",
       "      <td>1437.110000</td>\n",
       "      <td>1593651584.000000</td>\n",
       "    </tr>\n",
       "  </tbody>\n",
       "</table>\n",
       "<p>13107 rows × 3 columns</p>\n",
       "</div>"
      ],
      "text/plain": [
       "                     Date&Time       Close         Timestamp\n",
       "0      2020/07/01 04:16:07:301 1413.610000 1593594967.000000\n",
       "1      2020/07/01 04:21:17:549 1414.010000 1593595277.000000\n",
       "2      2020/07/01 05:10:42:852 1413.940000 1593598242.000000\n",
       "3      2020/07/01 05:16:15:159 1413.940000 1593598575.000000\n",
       "4      2020/07/01 05:20:21:710 1413.650000 1593598821.000000\n",
       "...                        ...         ...               ...\n",
       "13102  2020/07/01 19:53:27:685 1439.260000 1593651207.000000\n",
       "13103  2020/07/01 19:55:19:123 1440.000000 1593651319.000000\n",
       "13104  2020/07/01 19:57:28:362 1437.040000 1593651448.000000\n",
       "13105  2020/07/01 19:59:26:930 1440.000000 1593651566.000000\n",
       "13106  2020/07/01 19:59:44:328 1437.110000 1593651584.000000\n",
       "\n",
       "[13107 rows x 3 columns]"
      ]
     },
     "execution_count": 8,
     "metadata": {},
     "output_type": "execute_result"
    }
   ],
   "source": [
    "\n",
    "df = df.drop_duplicates(subset=['Timestamp'])\n",
    "df = df.reset_index()[['Date&Time', 'Close','Timestamp']]\n",
    "df"
   ]
  },
  {
   "cell_type": "markdown",
   "id": "74609212",
   "metadata": {},
   "source": [
    "here is timestamp"
   ]
  },
  {
   "cell_type": "code",
   "execution_count": 9,
   "id": "fc3334ef",
   "metadata": {},
   "outputs": [
    {
     "name": "stdout",
     "output_type": "stream",
     "text": [
      "<class 'str'>\n"
     ]
    }
   ],
   "source": [
    "print(type(df.loc[1, 'Date&Time']))"
   ]
  },
  {
   "cell_type": "code",
   "execution_count": 10,
   "id": "5a0c13f4",
   "metadata": {},
   "outputs": [
    {
     "name": "stdout",
     "output_type": "stream",
     "text": [
      "0        2020/07/01 04:16:07:301\n",
      "1        2020/07/01 04:21:17:549\n",
      "2        2020/07/01 05:10:42:852\n",
      "3        2020/07/01 05:16:15:159\n",
      "4        2020/07/01 05:20:21:710\n",
      "                  ...           \n",
      "13102    2020/07/01 19:53:27:685\n",
      "13103    2020/07/01 19:55:19:123\n",
      "13104    2020/07/01 19:57:28:362\n",
      "13105    2020/07/01 19:59:26:930\n",
      "13106    2020/07/01 19:59:44:328\n",
      "Name: Date&Time, Length: 13107, dtype: object\n"
     ]
    },
    {
     "data": {
      "image/png": "[encoded data removed]",
      "text/plain": [
       "<Figure size 1080x504 with 1 Axes>"
      ]
     },
     "metadata": {
      "needs_background": "light"
     },
     "output_type": "display_data"
    }
   ],
   "source": [
    "fig = plt.figure(figsize=(15, 7))\n",
    "ax = fig.add_subplot(111)\n",
    "ax.xaxis.set_major_formatter(mdate.DateFormatter('%H:%M:%S:%f'))                 \n",
    "\n",
    "# plt.xticks(pd.date_range(df.loc[0, 'Date&Time'], df.loc[len(df['Date&Time']), 'Date&Time'], freq='H'),rotation=45)\n",
    "\n",
    "print(df['Date&Time'])\n",
    "\n",
    "ax.plot(df['Date&Time'], df['Close'],color='r')\n",
    "plt.xticks(rotation=45)\n",
    "plt.show()\n"
   ]
  },
  {
   "cell_type": "raw",
   "id": "4f4d9d03",
   "metadata": {},
   "source": [
    "train : test = 9 : 1"
   ]
  },
  {
   "cell_type": "code",
   "execution_count": 11,
   "id": "2372eb57",
   "metadata": {},
   "outputs": [
    {
     "name": "stdout",
     "output_type": "stream",
     "text": [
      "11790\n",
      "                     Date&Time       Close         Timestamp\n",
      "0      2020/07/01 04:16:07:301 1413.610000 1593594967.000000\n",
      "1      2020/07/01 04:21:17:549 1414.010000 1593595277.000000\n",
      "2      2020/07/01 05:10:42:852 1413.940000 1593598242.000000\n",
      "3      2020/07/01 05:16:15:159 1413.940000 1593598575.000000\n",
      "4      2020/07/01 05:20:21:710 1413.650000 1593598821.000000\n",
      "...                        ...         ...               ...\n",
      "13102  2020/07/01 19:53:27:685 1439.260000 1593651207.000000\n",
      "13103  2020/07/01 19:55:19:123 1440.000000 1593651319.000000\n",
      "13104  2020/07/01 19:57:28:362 1437.040000 1593651448.000000\n",
      "13105  2020/07/01 19:59:26:930 1440.000000 1593651566.000000\n",
      "13106  2020/07/01 19:59:44:328 1437.110000 1593651584.000000\n",
      "\n",
      "[13107 rows x 3 columns]\n",
      "train_set:\n",
      "                      Date&Time       Close         Timestamp\n",
      "0      2020/07/01 04:16:07:301 1413.610000 1593594967.000000\n",
      "1      2020/07/01 04:21:17:549 1414.010000 1593595277.000000\n",
      "2      2020/07/01 05:10:42:852 1413.940000 1593598242.000000\n",
      "3      2020/07/01 05:16:15:159 1413.940000 1593598575.000000\n",
      "4      2020/07/01 05:20:21:710 1413.650000 1593598821.000000\n",
      "...                        ...         ...               ...\n",
      "11786  2020/07/01 15:34:25:519 1440.712400 1593635665.000000\n",
      "11787  2020/07/01 15:34:26:104 1440.690000 1593635666.000000\n",
      "11788  2020/07/01 15:34:29:890 1440.990000 1593635669.000000\n",
      "11789  2020/07/01 15:34:31:291 1440.690000 1593635671.000000\n",
      "11790  2020/07/01 15:34:32:052 1440.720000 1593635672.000000\n",
      "\n",
      "[11791 rows x 3 columns]\n",
      "test_set:\n",
      "                     Date&Time       Close         Timestamp\n",
      "0     2020/07/01 15:34:32:052 1440.720000 1593635672.000000\n",
      "1     2020/07/01 15:34:33:121 1440.775000 1593635673.000000\n",
      "2     2020/07/01 15:34:35:122 1440.975000 1593635675.000000\n",
      "3     2020/07/01 15:34:36:425 1440.980500 1593635676.000000\n",
      "4     2020/07/01 15:34:39:950 1440.710100 1593635679.000000\n",
      "...                       ...         ...               ...\n",
      "1312  2020/07/01 19:53:27:685 1439.260000 1593651207.000000\n",
      "1313  2020/07/01 19:55:19:123 1440.000000 1593651319.000000\n",
      "1314  2020/07/01 19:57:28:362 1437.040000 1593651448.000000\n",
      "1315  2020/07/01 19:59:26:930 1440.000000 1593651566.000000\n",
      "1316  2020/07/01 19:59:44:328 1437.110000 1593651584.000000\n",
      "\n",
      "[1317 rows x 3 columns]\n"
     ]
    }
   ],
   "source": [
    "# train_set, test_set = train_test_split(df, test_size = 0.1)\n",
    "# train_set = train_set.reset_index()[['Date&Time', 'Close']]\n",
    "# test_set = test_set.reset_index()[['Date&Time', 'Close']]\n",
    "# train_set.sort_values(by='Date&Time')\n",
    "# test_set.sort_values(by='Date&Time')\n",
    "train_len = (len(df) // 10) * 9\n",
    "print(train_len)\n",
    "train_set = df.loc[: train_len]\n",
    "test_set = df.loc[train_len:]\n",
    "test_set = test_set.reset_index()[['Date&Time', 'Close','Timestamp']]\n",
    "print(df)\n",
    "print('train_set:\\n', train_set)\n",
    "print('test_set:\\n', test_set)"
   ]
  },
  {
   "cell_type": "markdown",
   "id": "b315aabd",
   "metadata": {},
   "source": [
    "Normalization"
   ]
  },
  {
   "cell_type": "code",
   "execution_count": 12,
   "id": "2403dbc8",
   "metadata": {},
   "outputs": [
    {
     "name": "stdout",
     "output_type": "stream",
     "text": [
      "(11791, 1)\n"
     ]
    },
    {
     "data": {
      "text/plain": [
       "array([[1.413610e+03, 1.593595e+09],\n",
       "       [1.414010e+03, 1.593595e+09],\n",
       "       [1.413940e+03, 1.593598e+09],\n",
       "       ...,\n",
       "       [1.440990e+03, 1.593636e+09],\n",
       "       [1.440690e+03, 1.593636e+09],\n",
       "       [1.440720e+03, 1.593636e+09]])"
      ]
     },
     "execution_count": 12,
     "metadata": {},
     "output_type": "execute_result"
    }
   ],
   "source": [
    "# scaler = MinMaxScaler(feature_range=(0,1))\n",
    "# train_set_scaled = scaler.fit_transform(train_set[:,1].reshape(-1,1))\n",
    "\n",
    "a = np.array(train_set['Close'])\n",
    "a = a[:,None]\n",
    "print(a.shape)\n",
    "b = np.array(train_set['Timestamp'])\n",
    "b = b[:,None]\n",
    "train_set_scaled = np.hstack((a,b))\n",
    "\n",
    "train_set_scaled"
   ]
  },
  {
   "cell_type": "markdown",
   "id": "1fd1cff1",
   "metadata": {},
   "source": [
    "test set should start from the sixtieth countdown of the train set \n",
    "so that the first one of test set can be predicted. \n",
    "so now after appending 60 items from train set before the test test,\n",
    "the new test set should be as following."
   ]
  },
  {
   "cell_type": "code",
   "execution_count": 13,
   "id": "5d5b6d44",
   "metadata": {},
   "outputs": [
    {
     "name": "stdout",
     "output_type": "stream",
     "text": [
      "(1317, 2)\n"
     ]
    },
    {
     "data": {
      "text/plain": [
       "1317"
      ]
     },
     "execution_count": 13,
     "metadata": {},
     "output_type": "execute_result"
    }
   ],
   "source": [
    "# test_set_scaled = scaler.fit_transform(test_set[:,1].reshape(-1,1))\n",
    "a = np.array(test_set['Close'])\n",
    "a = a[:,None]\n",
    "\n",
    "b = np.array(test_set['Timestamp'])\n",
    "b = b[:,None]\n",
    "test_set_scaled = np.hstack((a,b))\n",
    "\n",
    "\n",
    "# test_set_scaled = np.squeeze(test_set['Close'])\n",
    "# last_sixty = train_set_scaled[-10:]\n",
    "# last_sixty = np.squeeze(last_sixty)\n",
    "# test_set_scaled = np.append(last_sixty, test_set_scaled, axis = 0)\n",
    "# test_set_scaled = np.array(test_set_scaled)\n",
    "print(test_set_scaled.shape)\n",
    "len(test_set_scaled)\n",
    "# print(train_set_scaled[-10] == test_set_scaled[0])\n",
    "\n"
   ]
  },
  {
   "cell_type": "markdown",
   "id": "52938cb2",
   "metadata": {},
   "source": [
    "establish specific train set features and labels for LSTM\n",
    "train_feature ----- the 50 items before the label\n",
    "train_label ----- decided by the 60 items before itself"
   ]
  },
  {
   "cell_type": "code",
   "execution_count": 14,
   "id": "63fd9807",
   "metadata": {},
   "outputs": [
    {
     "name": "stdout",
     "output_type": "stream",
     "text": [
      "train_feature:\n",
      " [[1413.61   1414.01   1413.94   ... 1413.64   1413.     1413.64  ]\n",
      " [1414.01   1413.94   1413.94   ... 1413.     1413.64   1413.64  ]\n",
      " [1413.94   1413.94   1413.65   ... 1413.64   1413.64   1413.64  ]\n",
      " ...\n",
      " [1440.795  1440.795  1440.795  ... 1440.93   1440.7124 1440.69  ]\n",
      " [1440.795  1440.795  1440.795  ... 1440.7124 1440.69   1440.99  ]\n",
      " [1440.795  1440.795  1441.0458 ... 1440.69   1440.99   1440.69  ]]\n",
      "train_label:\n",
      " [1413.64 1413.64 1407.   ... 1440.99 1440.69 1440.72]\n"
     ]
    }
   ],
   "source": [
    "train_feature = []\n",
    "train_label = []\n",
    "\n",
    "for i in range(10, len(train_set_scaled)):\n",
    "    train_feature.append(train_set_scaled[i-10:i, 0])\n",
    "    train_label.append(train_set_scaled[i, 0])\n",
    "\n",
    "train_feature, train_label = np.array(train_feature), np.array(train_label)\n",
    "# train_feature = np.reshape(train_feature, (train_feature.shape[0], train_feature.shape[1], 1))\n",
    "# train_feature = np.squeeze(train_feature)\n",
    "print('train_feature:\\n', train_feature)\n",
    "print('train_label:\\n', train_label)\n",
    "# type(train_feature)"
   ]
  },
  {
   "cell_type": "markdown",
   "id": "a4354ad1",
   "metadata": {},
   "source": [
    "establish specific test set features without labels for LSTM\n",
    "testing_feature ----- the 50 items before the one which need to be predicted after these 60 items\n"
   ]
  },
  {
   "cell_type": "code",
   "execution_count": 15,
   "id": "33cc2b22",
   "metadata": {},
   "outputs": [
    {
     "name": "stdout",
     "output_type": "stream",
     "text": [
      "(1307, 10)\n",
      "test_feature:\n",
      " [[1440.72   1440.775  1440.975  ... 1440.8537 1440.98   1440.7   ]\n",
      " [1440.775  1440.975  1440.9805 ... 1440.98   1440.7    1440.61  ]\n",
      " [1440.975  1440.9805 1440.7101 ... 1440.7    1440.61   1440.5783]\n",
      " ...\n",
      " [1438.55   1439.     1438.     ... 1439.26   1439.26   1440.    ]\n",
      " [1439.     1438.     1439.255  ... 1439.26   1440.     1437.04  ]\n",
      " [1438.     1439.255  1439.     ... 1440.     1437.04   1440.    ]]\n",
      "test_label:\n",
      " [1440.61   1440.5783 1440.61   ... 1437.04   1440.     1437.11  ]\n"
     ]
    }
   ],
   "source": [
    "test_feature = []\n",
    "test_label = []\n",
    "\n",
    "for i in range(10, len(test_set_scaled)):\n",
    "    test_feature.append(test_set_scaled[i-10:i, 0])\n",
    "    test_label.append(test_set_scaled[i, 0])\n",
    "    \n",
    "test_feature, test_label = np.array(test_feature), np.array(test_label)\n",
    "# test_feature = np.reshape(test_feature, (test_feature.shape[0], test_feature.shape[1], 1))\n",
    "# test_feature = np.squeeze(test_feature)\n",
    "print(test_feature.shape)\n",
    "print('test_feature:\\n', test_feature)\n",
    "print('test_label:\\n', test_label)"
   ]
  },
  {
   "cell_type": "code",
   "execution_count": 16,
   "id": "d6b239de",
   "metadata": {},
   "outputs": [
    {
     "name": "stderr",
     "output_type": "stream",
     "text": [
      "2022-08-11 10:26:32.817541: I tensorflow/core/common_runtime/gpu/gpu_device.cc:1525] Created device /job:localhost/replica:0/task:0/device:GPU:0 with 11211 MB memory:  -> device: 0, name: Tesla V100-SXM2-16GB, pci bus id: 0004:05:00.0, compute capability: 7.0\n"
     ]
    },
    {
     "data": {
      "text/plain": [
       "<tf.Tensor: shape=(11781, 10), dtype=float64, numpy=\n",
       "array([[1413.61  , 1414.01  , 1413.94  , ..., 1413.64  , 1413.    ,\n",
       "        1413.64  ],\n",
       "       [1414.01  , 1413.94  , 1413.94  , ..., 1413.    , 1413.64  ,\n",
       "        1413.64  ],\n",
       "       [1413.94  , 1413.94  , 1413.65  , ..., 1413.64  , 1413.64  ,\n",
       "        1413.64  ],\n",
       "       ...,\n",
       "       [1440.795 , 1440.795 , 1440.795 , ..., 1440.93  , 1440.7124,\n",
       "        1440.69  ],\n",
       "       [1440.795 , 1440.795 , 1440.795 , ..., 1440.7124, 1440.69  ,\n",
       "        1440.99  ],\n",
       "       [1440.795 , 1440.795 , 1441.0458, ..., 1440.69  , 1440.99  ,\n",
       "        1440.69  ]])>"
      ]
     },
     "execution_count": 16,
     "metadata": {},
     "output_type": "execute_result"
    }
   ],
   "source": [
    "# train_feature, train_label, test_feature, test_label\n",
    "train_feature = tf.convert_to_tensor(train_feature)\n",
    "train_feature                                                                      "
   ]
  },
  {
   "cell_type": "markdown",
   "id": "c42f8f7f",
   "metadata": {},
   "source": [
    "establish our custom LSTM model"
   ]
  },
  {
   "cell_type": "code",
   "execution_count": 46,
   "id": "71841b37",
   "metadata": {
    "scrolled": true
   },
   "outputs": [
    {
     "name": "stdout",
     "output_type": "stream",
     "text": [
      "WARNING:tensorflow:Layer lstm_8 will not use cuDNN kernels since it doesn't meet the criteria. It will use a generic GPU kernel as fallback when running on GPU.\n",
      "WARNING:tensorflow:Layer lstm_9 will not use cuDNN kernels since it doesn't meet the criteria. It will use a generic GPU kernel as fallback when running on GPU.\n",
      "WARNING:tensorflow:Layer lstm_10 will not use cuDNN kernels since it doesn't meet the criteria. It will use a generic GPU kernel as fallback when running on GPU.\n",
      "Model: \"sequential_3\"\n",
      "_________________________________________________________________\n",
      " Layer (type)                Output Shape              Param #   \n",
      "=================================================================\n",
      " lstm_8 (LSTM)               (None, 10, 256)           264192    \n",
      "                                                                 \n",
      " lstm_9 (LSTM)               (None, 10, 256)           525312    \n",
      "                                                                 \n",
      " lstm_10 (LSTM)              (None, 256)               525312    \n",
      "                                                                 \n",
      " dense_3 (Dense)             (None, 1)                 257       \n",
      "                                                                 \n",
      "=================================================================\n",
      "Total params: 1,315,073\n",
      "Trainable params: 1,315,073\n",
      "Non-trainable params: 0\n",
      "_________________________________________________________________\n"
     ]
    }
   ],
   "source": [
    "model = keras.Sequential()\n",
    "# batch_input_shape=(None,1,9)\n",
    "model.add(layers.LSTM(256, activation = 'relu', return_sequences = True, input_shape = (train_feature.shape[1], 1)))\n",
    "model.add(layers.LSTM(256, activation = 'relu', return_sequences = True))\n",
    "model.add(layers.LSTM(256, activation = 'relu', return_sequences = False))\n",
    "# model.add(layers.Dense(20, activation = 'linear'))\n",
    "model.add(layers.Dense(1,activation = 'linear'))\n",
    "\n",
    "opt = keras.optimizers.Adam(learning_rate=0.01)\n",
    "model.compile(loss='mean_squared_error', optimizer=opt)\n",
    "model.summary()"
   ]
  },
  {
   "cell_type": "markdown",
   "id": "c09c9ac4",
   "metadata": {},
   "source": [
    "define the optimizar and loss\n",
    "we always choose adam which is one of the most popular optimizar to tune the model\n",
    "and MSE which we always used in most DL model to represent the results of loss function"
   ]
  },
  {
   "cell_type": "markdown",
   "id": "c6ddaf0c",
   "metadata": {},
   "source": [
    "train the model"
   ]
  },
  {
   "cell_type": "code",
   "execution_count": 47,
   "id": "93f5cb2a",
   "metadata": {},
   "outputs": [
    {
     "name": "stdout",
     "output_type": "stream",
     "text": [
      "Epoch 1/30\n",
      "737/737 [==============================] - 69s 90ms/step - loss: 222207.8281\n",
      "Epoch 2/30\n",
      "737/737 [==============================] - 66s 90ms/step - loss: 3.0914\n",
      "Epoch 3/30\n",
      "737/737 [==============================] - 66s 90ms/step - loss: 251.5778\n",
      "Epoch 4/30\n",
      "737/737 [==============================] - 66s 90ms/step - loss: 187.4366\n",
      "Epoch 5/30\n",
      "737/737 [==============================] - 66s 90ms/step - loss: 169.3594\n",
      "Epoch 6/30\n",
      "737/737 [==============================] - 66s 90ms/step - loss: 149.1075\n",
      "Epoch 7/30\n",
      "737/737 [==============================] - 66s 90ms/step - loss: 65.4345\n",
      "Epoch 8/30\n",
      "737/737 [==============================] - 66s 90ms/step - loss: 3810.4990\n",
      "Epoch 9/30\n",
      "737/737 [==============================] - 66s 90ms/step - loss: 0.5621\n",
      "Epoch 10/30\n",
      "737/737 [==============================] - 66s 90ms/step - loss: 0.8920\n",
      "Epoch 11/30\n",
      "737/737 [==============================] - 66s 90ms/step - loss: 1.5744\n",
      "Epoch 12/30\n",
      "737/737 [==============================] - 66s 90ms/step - loss: 136.4042\n",
      "Epoch 13/30\n",
      "737/737 [==============================] - 66s 90ms/step - loss: 288.0721\n",
      "Epoch 14/30\n",
      "737/737 [==============================] - 66s 90ms/step - loss: 297.7132\n",
      "Epoch 15/30\n",
      "737/737 [==============================] - 66s 90ms/step - loss: 270.5591\n",
      "Epoch 16/30\n",
      "737/737 [==============================] - 66s 90ms/step - loss: 218.2124\n",
      "Epoch 17/30\n",
      "737/737 [==============================] - 66s 90ms/step - loss: 220.1691\n",
      "Epoch 18/30\n",
      "737/737 [==============================] - 66s 90ms/step - loss: 156.5872\n",
      "Epoch 19/30\n",
      "737/737 [==============================] - 66s 90ms/step - loss: 71.1838\n",
      "Epoch 20/30\n",
      "737/737 [==============================] - 66s 90ms/step - loss: 5194899.5000\n",
      "Epoch 21/30\n",
      "737/737 [==============================] - 66s 90ms/step - loss: 106.2916\n",
      "Epoch 22/30\n",
      "737/737 [==============================] - 66s 90ms/step - loss: 11.6489\n",
      "Epoch 23/30\n",
      "737/737 [==============================] - 66s 90ms/step - loss: 45.4782\n",
      "Epoch 24/30\n",
      "737/737 [==============================] - 66s 90ms/step - loss: 20.3500\n",
      "Epoch 25/30\n",
      "737/737 [==============================] - 66s 90ms/step - loss: 48.2240\n",
      "Epoch 26/30\n",
      "737/737 [==============================] - 66s 90ms/step - loss: 59.2141\n",
      "Epoch 27/30\n",
      "737/737 [==============================] - 66s 90ms/step - loss: 49.0580\n",
      "Epoch 28/30\n",
      "737/737 [==============================] - 66s 90ms/step - loss: 154.5147\n",
      "Epoch 29/30\n",
      "737/737 [==============================] - 66s 90ms/step - loss: 97.2685\n",
      "Epoch 30/30\n",
      "737/737 [==============================] - 66s 90ms/step - loss: 22.0781\n"
     ]
    },
    {
     "data": {
      "text/plain": [
       "<keras.callbacks.History at 0x7ffe9286ca00>"
      ]
     },
     "execution_count": 47,
     "metadata": {},
     "output_type": "execute_result"
    }
   ],
   "source": [
    "# model.compile(optimizer='adam', loss='mean_squared_error')\n",
    "\n",
    "model.fit(train_feature, train_label, batch_size=16, epochs=30, verbose=1)\n",
    "#  validation_data=(test_feature, test_label)"
   ]
  },
  {
   "cell_type": "markdown",
   "id": "e09a5c98",
   "metadata": {},
   "source": [
    "prediction on test set"
   ]
  },
  {
   "cell_type": "code",
   "execution_count": 48,
   "id": "97739214",
   "metadata": {},
   "outputs": [
    {
     "name": "stdout",
     "output_type": "stream",
     "text": [
      "[[1433.4524]\n",
      " [1433.425 ]\n",
      " [1433.4355]\n",
      " ...\n",
      " [1431.8243]\n",
      " [1430.6376]\n",
      " [1432.3123]]\n"
     ]
    },
    {
     "data": {
      "text/plain": [
       "7.902882682120121"
      ]
     },
     "execution_count": 48,
     "metadata": {},
     "output_type": "execute_result"
    }
   ],
   "source": [
    "pred = model.predict(test_feature, verbose = 0)\n",
    "print(pred)\n",
    "rmse = np.sqrt(np.mean(((pred - test_label)**2)))\n",
    "rmse"
   ]
  },
  {
   "cell_type": "markdown",
   "id": "35b6934c",
   "metadata": {},
   "source": [
    "visualize the prediction and compare it with the real ones"
   ]
  },
  {
   "cell_type": "code",
   "execution_count": 49,
   "id": "4649c252",
   "metadata": {},
   "outputs": [
    {
     "data": {
      "image/png": "[encoded data removed]",
      "text/plain": [
       "<Figure size 1224x504 with 1 Axes>"
      ]
     },
     "metadata": {
      "needs_background": "light"
     },
     "output_type": "display_data"
    }
   ],
   "source": [
    "# yy = model.predict(train_feature)\n",
    "fig = plt.figure(figsize=(17, 7))\n",
    "ax = fig.add_subplot(111)\n",
    "ax.xaxis.set_major_formatter(mdate.DateFormatter('%Y/%m/%d %H:%M:%S:%f'))                 \n",
    "\n",
    "\n",
    "ax.plot(df['Date&Time'], df['Close'],color='r')\n",
    "\n",
    "ax.plot(test_set.loc[10:,'Date&Time'], pred, color = 'g')\n",
    "\n",
    "plt.xticks(rotation=45)\n",
    "plt.show()\n",
    "\n",
    "\n",
    "\n",
    "             \n",
    "\n",
    "# # plt.xticks(pd.date_range(df.loc[0, 'Date&Time'], df.loc[len(df['Date&Time']), 'Date&Time'], freq='H'),rotation=45)"
   ]
  },
  {
   "cell_type": "code",
   "execution_count": 50,
   "id": "8b08289d",
   "metadata": {},
   "outputs": [
    {
     "data": {
      "text/html": [
       "<div>\n",
       "<style scoped>\n",
       "    .dataframe tbody tr th:only-of-type {\n",
       "        vertical-align: middle;\n",
       "    }\n",
       "\n",
       "    .dataframe tbody tr th {\n",
       "        vertical-align: top;\n",
       "    }\n",
       "\n",
       "    .dataframe thead th {\n",
       "        text-align: right;\n",
       "    }\n",
       "</style>\n",
       "<table border=\"1\" class=\"dataframe\">\n",
       "  <thead>\n",
       "    <tr style=\"text-align: right;\">\n",
       "      <th></th>\n",
       "      <th>Close</th>\n",
       "      <th>pred</th>\n",
       "    </tr>\n",
       "  </thead>\n",
       "  <tbody>\n",
       "    <tr>\n",
       "      <th>10</th>\n",
       "      <td>1440.610000</td>\n",
       "      <td>1433.452393</td>\n",
       "    </tr>\n",
       "    <tr>\n",
       "      <th>11</th>\n",
       "      <td>1440.578300</td>\n",
       "      <td>1433.425049</td>\n",
       "    </tr>\n",
       "    <tr>\n",
       "      <th>12</th>\n",
       "      <td>1440.610000</td>\n",
       "      <td>1433.435547</td>\n",
       "    </tr>\n",
       "    <tr>\n",
       "      <th>13</th>\n",
       "      <td>1440.764500</td>\n",
       "      <td>1433.341675</td>\n",
       "    </tr>\n",
       "    <tr>\n",
       "      <th>14</th>\n",
       "      <td>1440.855000</td>\n",
       "      <td>1433.457520</td>\n",
       "    </tr>\n",
       "    <tr>\n",
       "      <th>...</th>\n",
       "      <td>...</td>\n",
       "      <td>...</td>\n",
       "    </tr>\n",
       "    <tr>\n",
       "      <th>105</th>\n",
       "      <td>1440.320000</td>\n",
       "      <td>1433.581787</td>\n",
       "    </tr>\n",
       "    <tr>\n",
       "      <th>106</th>\n",
       "      <td>1440.488400</td>\n",
       "      <td>1433.577515</td>\n",
       "    </tr>\n",
       "    <tr>\n",
       "      <th>107</th>\n",
       "      <td>1440.450000</td>\n",
       "      <td>1433.479370</td>\n",
       "    </tr>\n",
       "    <tr>\n",
       "      <th>108</th>\n",
       "      <td>1440.320000</td>\n",
       "      <td>1433.258545</td>\n",
       "    </tr>\n",
       "    <tr>\n",
       "      <th>109</th>\n",
       "      <td>1440.320000</td>\n",
       "      <td>1433.166138</td>\n",
       "    </tr>\n",
       "  </tbody>\n",
       "</table>\n",
       "<p>100 rows × 2 columns</p>\n",
       "</div>"
      ],
      "text/plain": [
       "          Close        pred\n",
       "10  1440.610000 1433.452393\n",
       "11  1440.578300 1433.425049\n",
       "12  1440.610000 1433.435547\n",
       "13  1440.764500 1433.341675\n",
       "14  1440.855000 1433.457520\n",
       "..          ...         ...\n",
       "105 1440.320000 1433.581787\n",
       "106 1440.488400 1433.577515\n",
       "107 1440.450000 1433.479370\n",
       "108 1440.320000 1433.258545\n",
       "109 1440.320000 1433.166138\n",
       "\n",
       "[100 rows x 2 columns]"
      ]
     },
     "execution_count": 50,
     "metadata": {},
     "output_type": "execute_result"
    }
   ],
   "source": [
    "ddf = pd.DataFrame(test_set.loc[10:,'Close'])\n",
    "ddf['pred'] = pred\n",
    "ddf.head(100)"
   ]
  },
  {
   "cell_type": "code",
   "execution_count": null,
   "id": "b6289cee",
   "metadata": {},
   "outputs": [],
   "source": []
  }
 ],
 "metadata": {
  "kernelspec": {
   "display_name": "Python [conda env:.conda-FANG]",
   "language": "python",
   "name": "conda-env-.conda-FANG-py"
  },
  "language_info": {
   "codemirror_mode": {
    "name": "ipython",
    "version": 3
   },
   "file_extension": ".py",
   "mimetype": "text/x-python",
   "name": "python",
   "nbconvert_exporter": "python",
   "pygments_lexer": "ipython3",
   "version": "3.9.12"
  }
 },
 "nbformat": 4,
 "nbformat_minor": 5
}
